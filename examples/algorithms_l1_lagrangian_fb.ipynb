{
 "metadata": {
  "name": ""
 },
 "nbformat": 3,
 "nbformat_minor": 0,
 "worksheets": [
  {
   "cells": [
    {
     "cell_type": "heading",
     "level": 1,
     "metadata": {},
     "source": [
      "Basis Pursuit Denoising with Forward-Backward : CS Regularization"
     ]
    },
    {
     "cell_type": "markdown",
     "metadata": {},
     "source": [
      "Test the use of Forward-backward-like splitting for the resolution of a compressed sensing regularization"
     ]
    },
    {
     "cell_type": "code",
     "collapsed": false,
     "input": [
      "from __future__ import division\n",
      "import time\n",
      "\n",
      "import numpy as np\n",
      "import scipy.linalg as lin\n",
      "import pylab as pl\n",
      "\n",
      "from locore.algorithms import forward_backward\n",
      "from locore.operators import soft_thresholding"
     ],
     "language": "python",
     "metadata": {},
     "outputs": [],
     "prompt_number": 1
    },
    {
     "cell_type": "markdown",
     "metadata": {},
     "source": [
      "Parameters"
     ]
    },
    {
     "cell_type": "code",
     "collapsed": false,
     "input": [
      "n = 600\n",
      "p = n // 4\n",
      "la = 1.0  # regularization parameter"
     ],
     "language": "python",
     "metadata": {},
     "outputs": [],
     "prompt_number": 2
    },
    {
     "cell_type": "markdown",
     "metadata": {},
     "source": [
      "Matrix and observations"
     ]
    },
    {
     "cell_type": "code",
     "collapsed": false,
     "input": [
      "A = np.random.randn(p, n)\n",
      "y = np.random.randn(p, 1)"
     ],
     "language": "python",
     "metadata": {},
     "outputs": [],
     "prompt_number": 3
    },
    {
     "cell_type": "markdown",
     "metadata": {},
     "source": [
      "List of benchmarked algorithms"
     ]
    },
    {
     "cell_type": "code",
     "collapsed": false,
     "input": [
      "methods = ['fb', 'fista', 'nesterov']"
     ],
     "language": "python",
     "metadata": {},
     "outputs": [],
     "prompt_number": 4
    },
    {
     "cell_type": "markdown",
     "metadata": {},
     "source": [
      "Operator callbacks"
     ]
    },
    {
     "cell_type": "code",
     "collapsed": false,
     "input": [
      "F = lambda x: la * lin.norm(x, 1)\n",
      "G = lambda x: 1 / 2 * lin.norm(y - np.dot(A, x)) ** 2\n",
      "prox_f = lambda x, tau: soft_thresholding(x, la * tau)\n",
      "grad_g = lambda x: np.dot(A.T, np.dot(A, x) - y)"
     ],
     "language": "python",
     "metadata": {},
     "outputs": [],
     "prompt_number": 5
    },
    {
     "cell_type": "markdown",
     "metadata": {},
     "source": [
      "Run"
     ]
    },
    {
     "cell_type": "code",
     "collapsed": false,
     "input": [
      "L = lin.norm(A, 2) ** 2  # Lipschitz constant\n",
      "\n",
      "callback = lambda x: F(x) + G(x)\n",
      "maxiter = 1000\n",
      "\n",
      "res = np.zeros((maxiter, len(methods)))\n",
      "i = 0\n",
      "for method in methods:\n",
      "    t1 = time.time()\n",
      "    x, fx = forward_backward(prox_f, grad_g, np.zeros((n, 1)), L,\n",
      "        maxiter=maxiter, method=method,\n",
      "        full_output=1, retall=0, callback=callback)\n",
      "    t2 = time.time()\n",
      "    print \"[\" + method + \"]: Performed 1000 iterations in \" \\\n",
      "          + str(t2 - t1) + \"seconds.\"\n",
      "    res[:, i] = fx\n",
      "    i += 1"
     ],
     "language": "python",
     "metadata": {},
     "outputs": [
      {
       "output_type": "stream",
       "stream": "stdout",
       "text": [
        "[fb]: Performed 1000 iterations in 0.319336175919seconds.\n",
        "[fista]: Performed 1000 iterations in 0.456979036331seconds."
       ]
      },
      {
       "output_type": "stream",
       "stream": "stdout",
       "text": [
        "\n",
        "[nesterov]: Performed 1000 iterations in 0.418328046799seconds."
       ]
      },
      {
       "output_type": "stream",
       "stream": "stdout",
       "text": [
        "\n"
       ]
      }
     ],
     "prompt_number": 6
    },
    {
     "cell_type": "markdown",
     "metadata": {},
     "source": [
      "Show"
     ]
    },
    {
     "cell_type": "code",
     "collapsed": false,
     "input": [
      "e = np.min(res.flatten())\n",
      "\n",
      "pl.loglog(res[:(maxiter // 10), :] - e)\n",
      "pl.legend(methods)\n",
      "pl.grid(True, which=\"both\", ls=\"-\")\n",
      "pl.tight_layout()\n",
      "pl.show()"
     ],
     "language": "python",
     "metadata": {},
     "outputs": [
      {
       "metadata": {},
       "output_type": "display_data",
       "png": "[encoded data removed]",
       "text": [
        "<matplotlib.figure.Figure at 0x105a8f250>"
       ]
      }
     ],
     "prompt_number": 7
    }
   ],
   "metadata": {}
  }
 ]
}