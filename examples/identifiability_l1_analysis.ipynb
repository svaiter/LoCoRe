{
 "metadata": {
  "name": ""
 },
 "nbformat": 3,
 "nbformat_minor": 0,
 "worksheets": [
  {
   "cells": [
    {
     "cell_type": "code",
     "collapsed": false,
     "input": [
      "from __future__ import division\n",
      "\n",
      "import numpy as np\n",
      "import scipy.linalg as lin\n",
      "import pylab as pl\n",
      "\n",
      "from locore.identifiability import crit_l1_analysis\n",
      "from locore.operators import finite_diff_1d"
     ],
     "language": "python",
     "metadata": {},
     "outputs": [],
     "prompt_number": 1
    },
    {
     "cell_type": "markdown",
     "metadata": {},
     "source": [
      "Dimension of the problem"
     ]
    },
    {
     "cell_type": "code",
     "collapsed": false,
     "input": [
      "n = 100"
     ],
     "language": "python",
     "metadata": {},
     "outputs": [],
     "prompt_number": 2
    },
    {
     "cell_type": "markdown",
     "metadata": {},
     "source": [
      "Denoising setting"
     ]
    },
    {
     "cell_type": "code",
     "collapsed": false,
     "input": [
      "A = np.eye(n)"
     ],
     "language": "python",
     "metadata": {},
     "outputs": [],
     "prompt_number": 3
    },
    {
     "cell_type": "markdown",
     "metadata": {},
     "source": [
      "First order dictionary (TV)"
     ]
    },
    {
     "cell_type": "code",
     "collapsed": false,
     "input": [
      "D = finite_diff_1d(n)"
     ],
     "language": "python",
     "metadata": {},
     "outputs": [],
     "prompt_number": 4
    },
    {
     "cell_type": "markdown",
     "metadata": {},
     "source": [
      "Generate a test vector"
     ]
    },
    {
     "cell_type": "code",
     "collapsed": false,
     "input": [
      "x = np.ones((n,1))\n",
      "x[n//2:n//2+10] = 2"
     ],
     "language": "python",
     "metadata": {},
     "outputs": [],
     "prompt_number": 5
    },
    {
     "cell_type": "markdown",
     "metadata": {},
     "source": [
      "Compute IC"
     ]
    },
    {
     "cell_type": "code",
     "collapsed": false,
     "input": [
      "crit_l1_analysis(D, A, x)"
     ],
     "language": "python",
     "metadata": {},
     "outputs": [
      {
       "metadata": {},
       "output_type": "pyout",
       "prompt_number": 6,
       "text": [
        "(0.97999999999999987,\n",
        " array([[-0.02 ],\n",
        "       [-0.04 ],\n",
        "       [-0.06 ],\n",
        "       [-0.08 ],\n",
        "       [-0.1  ],\n",
        "       [-0.12 ],\n",
        "       [-0.14 ],\n",
        "       [-0.16 ],\n",
        "       [-0.18 ],\n",
        "       [-0.2  ],\n",
        "       [-0.22 ],\n",
        "       [-0.24 ],\n",
        "       [-0.26 ],\n",
        "       [-0.28 ],\n",
        "       [-0.3  ],\n",
        "       [-0.32 ],\n",
        "       [-0.34 ],\n",
        "       [-0.36 ],\n",
        "       [-0.38 ],\n",
        "       [-0.4  ],\n",
        "       [-0.42 ],\n",
        "       [-0.44 ],\n",
        "       [-0.46 ],\n",
        "       [-0.48 ],\n",
        "       [-0.5  ],\n",
        "       [-0.52 ],\n",
        "       [-0.54 ],\n",
        "       [-0.56 ],\n",
        "       [-0.58 ],\n",
        "       [-0.6  ],\n",
        "       [-0.62 ],\n",
        "       [-0.64 ],\n",
        "       [-0.66 ],\n",
        "       [-0.68 ],\n",
        "       [-0.7  ],\n",
        "       [-0.72 ],\n",
        "       [-0.74 ],\n",
        "       [-0.76 ],\n",
        "       [-0.78 ],\n",
        "       [-0.8  ],\n",
        "       [-0.82 ],\n",
        "       [-0.84 ],\n",
        "       [-0.86 ],\n",
        "       [-0.88 ],\n",
        "       [-0.9  ],\n",
        "       [-0.92 ],\n",
        "       [-0.94 ],\n",
        "       [-0.96 ],\n",
        "       [-0.98 ],\n",
        "       [-0.8  ],\n",
        "       [-0.6  ],\n",
        "       [-0.4  ],\n",
        "       [-0.2  ],\n",
        "       [ 0.   ],\n",
        "       [ 0.2  ],\n",
        "       [ 0.4  ],\n",
        "       [ 0.6  ],\n",
        "       [ 0.8  ],\n",
        "       [ 0.975],\n",
        "       [ 0.95 ],\n",
        "       [ 0.925],\n",
        "       [ 0.9  ],\n",
        "       [ 0.875],\n",
        "       [ 0.85 ],\n",
        "       [ 0.825],\n",
        "       [ 0.8  ],\n",
        "       [ 0.775],\n",
        "       [ 0.75 ],\n",
        "       [ 0.725],\n",
        "       [ 0.7  ],\n",
        "       [ 0.675],\n",
        "       [ 0.65 ],\n",
        "       [ 0.625],\n",
        "       [ 0.6  ],\n",
        "       [ 0.575],\n",
        "       [ 0.55 ],\n",
        "       [ 0.525],\n",
        "       [ 0.5  ],\n",
        "       [ 0.475],\n",
        "       [ 0.45 ],\n",
        "       [ 0.425],\n",
        "       [ 0.4  ],\n",
        "       [ 0.375],\n",
        "       [ 0.35 ],\n",
        "       [ 0.325],\n",
        "       [ 0.3  ],\n",
        "       [ 0.275],\n",
        "       [ 0.25 ],\n",
        "       [ 0.225],\n",
        "       [ 0.2  ],\n",
        "       [ 0.175],\n",
        "       [ 0.15 ],\n",
        "       [ 0.125],\n",
        "       [ 0.1  ],\n",
        "       [ 0.075],\n",
        "       [ 0.05 ],\n",
        "       [ 0.025]]))"
       ]
      }
     ],
     "prompt_number": 6
    }
   ],
   "metadata": {}
  }
 ]
}