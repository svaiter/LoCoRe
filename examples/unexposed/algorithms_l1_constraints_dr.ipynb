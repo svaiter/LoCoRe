{
 "metadata": {
  "name": ""
 },
 "nbformat": 3,
 "nbformat_minor": 0,
 "worksheets": [
  {
   "cells": [
    {
     "cell_type": "heading",
     "level": 1,
     "metadata": {},
     "source": [
      "Basis Pursuit with Douglas Rachford"
     ]
    },
    {
     "cell_type": "code",
     "collapsed": false,
     "input": [
      "from __future__ import division\n",
      "import time\n",
      "\n",
      "import numpy as np\n",
      "import scipy.linalg as lin\n",
      "import pylab as pl\n",
      "\n",
      "from locore.algorithms import douglas_rachford\n",
      "from locore.operators import soft_thresholding"
     ],
     "language": "python",
     "metadata": {},
     "outputs": [],
     "prompt_number": 1
    },
    {
     "cell_type": "markdown",
     "metadata": {},
     "source": [
      "Dimension of the problem"
     ]
    },
    {
     "cell_type": "code",
     "collapsed": false,
     "input": [
      "n = 500\n",
      "p = n // 4"
     ],
     "language": "python",
     "metadata": {},
     "outputs": [],
     "prompt_number": 2
    },
    {
     "cell_type": "markdown",
     "metadata": {},
     "source": [
      "Matrix and observations"
     ]
    },
    {
     "cell_type": "code",
     "collapsed": false,
     "input": [
      "A = np.random.randn(p, n)\n",
      "y = np.random.randn(p, 1)"
     ],
     "language": "python",
     "metadata": {},
     "outputs": [],
     "prompt_number": 3
    },
    {
     "cell_type": "markdown",
     "metadata": {},
     "source": [
      "Operator callbacks"
     ]
    },
    {
     "cell_type": "code",
     "collapsed": false,
     "input": [
      "F = lambda x: lin.norm(x, 1)\n",
      "prox_f = soft_thresholding\n",
      "prox_g = lambda x, tau: x + np.dot(A.T, lin.solve(np.dot(A, A.T),\n",
      "    y - np.dot(A, x)))"
     ],
     "language": "python",
     "metadata": {},
     "outputs": [],
     "prompt_number": 4
    },
    {
     "cell_type": "markdown",
     "metadata": {},
     "source": [
      "Run"
     ]
    },
    {
     "cell_type": "code",
     "collapsed": false,
     "input": [
      "t1 = time.time()\n",
      "x, fx = douglas_rachford(prox_f, prox_g, np.zeros((n, 1)),\n",
      "    maxiter=1000, full_output=1, retall=0, callback=F)\n",
      "t2 = time.time()"
     ],
     "language": "python",
     "metadata": {},
     "outputs": [],
     "prompt_number": 5
    },
    {
     "cell_type": "markdown",
     "metadata": {},
     "source": [
      "Show"
     ]
    },
    {
     "cell_type": "code",
     "collapsed": false,
     "input": [
      "print \"Performed 1000 iterations in \" + str(t2 - t1) + \" seconds.\"\n",
      "pl.plot(fx)\n",
      "pl.show()"
     ],
     "language": "python",
     "metadata": {},
     "outputs": [
      {
       "output_type": "stream",
       "stream": "stdout",
       "text": [
        "Performed 1000 iterations in 3.4334321022 seconds.\n"
       ]
      },
      {
       "metadata": {},
       "output_type": "display_data",
       "png": "[encoded data removed]",
       "text": [
        "<matplotlib.figure.Figure at 0x105e79750>"
       ]
      }
     ],
     "prompt_number": 6
    }
   ],
   "metadata": {}
  }
 ]
}