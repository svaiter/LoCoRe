{
 "metadata": {
  "name": ""
 },
 "nbformat": 3,
 "nbformat_minor": 0,
 "worksheets": [
  {
   "cells": [
    {
     "cell_type": "code",
     "collapsed": false,
     "input": [
      "from locore.identifiability import crit_nuclear"
     ],
     "language": "python",
     "metadata": {},
     "outputs": [],
     "prompt_number": 1
    },
    {
     "cell_type": "code",
     "collapsed": false,
     "input": [
      "n1 = 30\n",
      "n2 = n1\n",
      "n = n1 * n2\n",
      "rand_rank = lambda r: dot(randn(n1,r), randn(r,n2))"
     ],
     "language": "python",
     "metadata": {},
     "outputs": [],
     "prompt_number": 2
    },
    {
     "cell_type": "markdown",
     "metadata": {},
     "source": [
      "Plot transition curve as function of #measurements."
     ]
    },
    {
     "cell_type": "code",
     "collapsed": false,
     "input": [
      "r = 4"
     ],
     "language": "python",
     "metadata": {},
     "outputs": [],
     "prompt_number": 3
    },
    {
     "cell_type": "markdown",
     "metadata": {},
     "source": [
      "Phase transition is bounded by Candes around $p=p0$"
     ]
    },
    {
     "cell_type": "code",
     "collapsed": false,
     "input": [
      "p0 = r*(3*n1 + 3*n2 - 5*r)"
     ],
     "language": "python",
     "metadata": {},
     "outputs": [],
     "prompt_number": 4
    },
    {
     "cell_type": "code",
     "collapsed": false,
     "input": [
      "Plist = map(lambda x: int(round(x)), linspace(max(1,0.8*p0), min(n,1.2*p0), 20))\n",
      "q = 5 # number of replication\n",
      "IC = zeros((len(Plist), q))\n",
      "for i in range(len(Plist)):\n",
      "    p = Plist[i]\n",
      "    for j in range(q):\n",
      "        Phi = randn(p,n)\n",
      "        X = rand_rank(r)\n",
      "        IC[i, j] = crit_nuclear(Phi, X)[0]"
     ],
     "language": "python",
     "metadata": {},
     "outputs": [],
     "prompt_number": 5
    },
    {
     "cell_type": "code",
     "collapsed": false,
     "input": [
      "plot( Plist, IC, 'k.' );\n",
      "plot(Plist, mean(IC,axis=1));\n",
      "plot( [min(Plist), max(Plist)], [1, 1], 'r--' );\n",
      "plot( [p0, p0], [0, 2], 'g--' );\n",
      "xlabel('P'); ylabel('mean IC');"
     ],
     "language": "python",
     "metadata": {},
     "outputs": [
      {
       "metadata": {},
       "output_type": "display_data",
       "png": "[encoded data removed]",
       "text": [
        "<matplotlib.figure.Figure at 0x105a7aed0>"
       ]
      }
     ],
     "prompt_number": 6
    }
   ],
   "metadata": {}
  }
 ]
}