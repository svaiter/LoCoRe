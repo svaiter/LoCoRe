{
 "metadata": {
  "name": ""
 },
 "nbformat": 3,
 "nbformat_minor": 0,
 "worksheets": [
  {
   "cells": [
    {
     "cell_type": "code",
     "collapsed": false,
     "input": [
      "from __future__ import division\n",
      "import numpy as np\n",
      "\n",
      "from locore import Sparse"
     ],
     "language": "python",
     "metadata": {},
     "outputs": [],
     "prompt_number": 1
    },
    {
     "cell_type": "code",
     "collapsed": false,
     "input": [
      "n = 10\n",
      "q = 7\n",
      "Phi = np.random.randn(q,n)\n",
      "sp = Sparse(Phi)"
     ],
     "language": "python",
     "metadata": {},
     "outputs": [],
     "prompt_number": 2
    },
    {
     "cell_type": "code",
     "collapsed": false,
     "input": [
      "x = zeros((n,1))\n",
      "x[1] = 1\n",
      "x[5] = 1"
     ],
     "language": "python",
     "metadata": {},
     "outputs": [],
     "prompt_number": 3
    },
    {
     "cell_type": "code",
     "collapsed": false,
     "input": [
      "sp.tangent_model(x)"
     ],
     "language": "python",
     "metadata": {},
     "outputs": [
      {
       "metadata": {},
       "output_type": "pyout",
       "prompt_number": 4,
       "text": [
        "array([[ 0.,  0.],\n",
        "       [ 1.,  0.],\n",
        "       [ 0.,  0.],\n",
        "       [ 0.,  0.],\n",
        "       [ 0.,  0.],\n",
        "       [ 0.,  1.],\n",
        "       [ 0.,  0.],\n",
        "       [ 0.,  0.],\n",
        "       [ 0.,  0.],\n",
        "       [ 0.,  0.]])"
       ]
      }
     ],
     "prompt_number": 4
    },
    {
     "cell_type": "code",
     "collapsed": false,
     "input": [
      "sp.ic(x)"
     ],
     "language": "python",
     "metadata": {},
     "outputs": [
      {
       "metadata": {},
       "output_type": "pyout",
       "prompt_number": 5,
       "text": [
        "0.7847583117077146"
       ]
      }
     ],
     "prompt_number": 5
    },
    {
     "cell_type": "code",
     "collapsed": false,
     "input": [
      "plt.plot(sp.linearized_precertificate(x))"
     ],
     "language": "python",
     "metadata": {},
     "outputs": [
      {
       "metadata": {},
       "output_type": "pyout",
       "prompt_number": 6,
       "text": [
        "[<matplotlib.lines.Line2D at 0x1060271d0>]"
       ]
      },
      {
       "metadata": {},
       "output_type": "display_data",
       "png": "[encoded data removed]",
       "text": [
        "<matplotlib.figure.Figure at 0x1060001d0>"
       ]
      }
     ],
     "prompt_number": 6
    },
    {
     "cell_type": "code",
     "collapsed": false,
     "input": [
      "sigma = 0.05\n",
      "y = np.dot(Phi, x) + sigma * np.random.randn(q,1)\n",
      "plot(y)"
     ],
     "language": "python",
     "metadata": {},
     "outputs": [
      {
       "metadata": {},
       "output_type": "pyout",
       "prompt_number": 7,
       "text": [
        "[<matplotlib.lines.Line2D at 0x1060ba890>]"
       ]
      },
      {
       "metadata": {},
       "output_type": "display_data",
       "png": "[encoded data removed]",
       "text": [
        "<matplotlib.figure.Figure at 0x10602ecd0>"
       ]
      }
     ],
     "prompt_number": 7
    },
    {
     "cell_type": "code",
     "collapsed": false,
     "input": [
      "sp.solve_l2(1.5 * sigma, y)"
     ],
     "language": "python",
     "metadata": {},
     "outputs": [
      {
       "metadata": {},
       "output_type": "pyout",
       "prompt_number": 8,
       "text": [
        "array([[-0.        ],\n",
        "       [ 0.97656684],\n",
        "       [-0.        ],\n",
        "       [ 0.        ],\n",
        "       [-0.00316994],\n",
        "       [ 0.94982242],\n",
        "       [-0.00464396],\n",
        "       [ 0.        ],\n",
        "       [ 0.01143151],\n",
        "       [-0.        ]])"
       ]
      }
     ],
     "prompt_number": 8
    },
    {
     "cell_type": "code",
     "collapsed": false,
     "input": [
      "sp.solve_noiseless(y)"
     ],
     "language": "python",
     "metadata": {},
     "outputs": [
      {
       "metadata": {},
       "output_type": "pyout",
       "prompt_number": 9,
       "text": [
        "array([[ -4.44089210e-16],\n",
        "       [  1.03696597e+00],\n",
        "       [  3.88578059e-16],\n",
        "       [  6.41370360e-03],\n",
        "       [ -3.26021106e-02],\n",
        "       [  9.82487863e-01],\n",
        "       [ -5.82050053e-02],\n",
        "       [ -6.66133815e-16],\n",
        "       [  2.71410228e-02],\n",
        "       [  3.47995764e-02]])"
       ]
      }
     ],
     "prompt_number": 9
    }
   ],
   "metadata": {}
  }
 ]
}