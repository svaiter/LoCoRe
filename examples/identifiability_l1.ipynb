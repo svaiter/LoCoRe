{
 "metadata": {
  "name": ""
 },
 "nbformat": 3,
 "nbformat_minor": 0,
 "worksheets": [
  {
   "cells": [
    {
     "cell_type": "code",
     "collapsed": false,
     "input": [
      "from __future__ import division\n",
      "\n",
      "import numpy as np\n",
      "import scipy.linalg as lin\n",
      "import pylab as pl\n",
      "\n",
      "from locore.identifiability import crit_l1_synthesis"
     ],
     "language": "python",
     "metadata": {},
     "outputs": [],
     "prompt_number": 1
    },
    {
     "cell_type": "markdown",
     "metadata": {},
     "source": [
      "Dimension of the problem"
     ]
    },
    {
     "cell_type": "code",
     "collapsed": false,
     "input": [
      "n = 100\n",
      "p = n // 4"
     ],
     "language": "python",
     "metadata": {},
     "outputs": [],
     "prompt_number": 2
    },
    {
     "cell_type": "markdown",
     "metadata": {},
     "source": [
      "Random matrix forward operator"
     ]
    },
    {
     "cell_type": "code",
     "collapsed": false,
     "input": [
      "A = np.random.randn(p, n)"
     ],
     "language": "python",
     "metadata": {},
     "outputs": [],
     "prompt_number": 3
    },
    {
     "cell_type": "markdown",
     "metadata": {},
     "source": [
      "Generate a sparse vector"
     ]
    },
    {
     "cell_type": "code",
     "collapsed": false,
     "input": [
      "x = np.zeros((n,1))\n",
      "x[2] = 1\n",
      "x[8] = 1"
     ],
     "language": "python",
     "metadata": {},
     "outputs": [],
     "prompt_number": 4
    },
    {
     "cell_type": "markdown",
     "metadata": {},
     "source": [
      "Compute IC for this vector"
     ]
    },
    {
     "cell_type": "code",
     "collapsed": false,
     "input": [
      "crit_l1_synthesis(A, x)"
     ],
     "language": "python",
     "metadata": {},
     "outputs": [
      {
       "metadata": {},
       "output_type": "pyout",
       "prompt_number": 5,
       "text": [
        "(0.77043373924575453,\n",
        " array([[-0.0862186 ],\n",
        "       [-0.01711932],\n",
        "       [ 0.00575851],\n",
        "       [-0.03254814],\n",
        "       [ 0.0686393 ],\n",
        "       [-0.00769248],\n",
        "       [-0.13616097],\n",
        "       [-0.07452367],\n",
        "       [-0.07769122],\n",
        "       [-0.00152505],\n",
        "       [-0.01228834],\n",
        "       [ 0.03620595],\n",
        "       [ 0.07423077],\n",
        "       [ 0.08094236],\n",
        "       [-0.03062557],\n",
        "       [-0.0471553 ],\n",
        "       [-0.02980458],\n",
        "       [-0.04308071],\n",
        "       [-0.00702941],\n",
        "       [ 0.12854697],\n",
        "       [ 0.03423215],\n",
        "       [ 0.00041204],\n",
        "       [-0.00293466],\n",
        "       [ 0.02107606],\n",
        "       [ 0.07388007]]))"
       ]
      }
     ],
     "prompt_number": 5
    }
   ],
   "metadata": {}
  }
 ]
}